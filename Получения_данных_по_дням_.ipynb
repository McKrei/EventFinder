{
  "nbformat": 4,
  "nbformat_minor": 0,
  "metadata": {
    "colab": {
      "provenance": [],
      "authorship_tag": "ABX9TyOBOhNzT2MjdlhVj9AZqbqr",
      "include_colab_link": true
    },
    "kernelspec": {
      "name": "python3",
      "display_name": "Python 3"
    },
    "language_info": {
      "name": "python"
    }
  },
  "cells": [
    {
      "cell_type": "markdown",
      "metadata": {
        "id": "view-in-github",
        "colab_type": "text"
      },
      "source": [
        "<a href=\"https://colab.research.google.com/github/McKrei/EventFinder/blob/master/%D0%9F%D0%BE%D0%BB%D1%83%D1%87%D0%B5%D0%BD%D0%B8%D1%8F_%D0%B4%D0%B0%D0%BD%D0%BD%D1%8B%D1%85_%D0%BF%D0%BE_%D0%B4%D0%BD%D1%8F%D0%BC_.ipynb\" target=\"_parent\"><img src=\"https://colab.research.google.com/assets/colab-badge.svg\" alt=\"Open In Colab\"/></a>"
      ]
    },
    {
      "cell_type": "code",
      "execution_count": null,
      "metadata": {
        "id": "PFmEemSewl6d"
      },
      "outputs": [],
      "source": [
        "import csv\n",
        "import json\n",
        "\n",
        "data = []\n",
        "prc_lst = [\n",
        "    'Перед заказом',\n",
        "    'Перед отправкой',\n",
        "    'После доствки',\n",
        "    ]\n",
        "with open('data.csv', 'r') as f:\n",
        "    reader = csv.DictReader(f, delimiter='\\t')\n",
        "    for row in reader:\n",
        "        # [int(el) if el.isdigit() else el if el else None for el in row]\n",
        "        for k, el in row.items():\n",
        "            # row[k] = int(el) if el.isdigit() else el if el else None\n",
        "            el = 0 if not el else int(el) if el.isdigit() else el\n",
        "            if k in prc_lst:\n",
        "                el /= 100\n",
        "            row[k] = el\n",
        "        data.append(row)\n",
        "\n",
        "with open('data.json', 'w') as f:\n",
        "    json.dump(data, f, indent=4, ensure_ascii=False)"
      ]
    }
  ]
}